{
 "cells": [
  {
   "cell_type": "markdown",
   "id": "4d358c40-7dec-45dd-a72f-faa0bcdd5e44",
   "metadata": {},
   "source": [
    "## Set up the environments"
   ]
  },
  {
   "cell_type": "code",
   "execution_count": 1,
   "id": "b3e79782-e92c-4b29-864d-cb3c31bc5640",
   "metadata": {},
   "outputs": [
    {
     "name": "stdout",
     "output_type": "stream",
     "text": [
      "Intel MKL WARNING: Support of Intel(R) Streaming SIMD Extensions 4.2 (Intel(R) SSE4.2) enabled only processors has been deprecated. Intel oneAPI Math Kernel Library 2025.0 will require Intel(R) Advanced Vector Extensions (Intel(R) AVX) instructions.\n",
      "Intel MKL WARNING: Support of Intel(R) Streaming SIMD Extensions 4.2 (Intel(R) SSE4.2) enabled only processors has been deprecated. Intel oneAPI Math Kernel Library 2025.0 will require Intel(R) Advanced Vector Extensions (Intel(R) AVX) instructions.\n"
     ]
    },
    {
     "name": "stderr",
     "output_type": "stream",
     "text": [
      "/opt/anaconda3/envs/InferNetScalingLaws/lib/python3.10/site-packages/tqdm/auto.py:21: TqdmWarning: IProgress not found. Please update jupyter and ipywidgets. See https://ipywidgets.readthedocs.io/en/stable/user_install.html\n",
      "  from .autonotebook import tqdm as notebook_tqdm\n"
     ]
    }
   ],
   "source": [
    "%load_ext autoreload\n",
    "%autoreload 2\n",
    "%run config/config.py\n",
    "import os\n",
    "os.environ['config_path'] =\"config/serviceinfo.json\"\n",
    "os.environ['DB_PATH'] =\"db/db_truthfulqa.sqlite\"\n",
    "from run import run"
   ]
  },
  {
   "cell_type": "markdown",
   "id": "3579e9ee-16da-425f-9f28-6c47894dcf85",
   "metadata": {},
   "source": [
    "## Specify the model and task"
   ]
  },
  {
   "cell_type": "code",
   "execution_count": 2,
   "id": "d7e23980-c3d6-4320-a6c5-266aae42f033",
   "metadata": {},
   "outputs": [],
   "source": [
    "modelname = 'openaichat/gpt-3.5-turbo-0125'\n",
    "use_filter_list = [False, True]\n",
    "dataname = 'truthfulqa'\n",
    "cates = ['dev']"
   ]
  },
  {
   "cell_type": "markdown",
   "id": "15ec93bc-47ac-4b08-b739-23a03993adcc",
   "metadata": {},
   "source": [
    "## Obtain generations of both Vote and Filter-Vote"
   ]
  },
  {
   "cell_type": "code",
   "execution_count": 4,
   "id": "e3d3d660-ce39-4b45-bc5d-e467b85ea714",
   "metadata": {},
   "outputs": [
    {
     "name": "stderr",
     "output_type": "stream",
     "text": [
      "Using the latest cached version of the dataset since truthful_qa couldn't be found on the Hugging Face Hub\n",
      "Found the latest cached dataset configuration 'multiple_choice' at /Users/lingjiao/.cache/huggingface/datasets/truthful_qa/multiple_choice/0.0.0/741b8276f2d1982aa3d5b832d3ee81ed3b896490 (last modified on Sat Apr 20 21:01:35 2024).\n"
     ]
    },
    {
     "name": "stdout",
     "output_type": "stream",
     "text": [
      "cate : dev\n",
      "selector mode is mc_majority_vote\n"
     ]
    },
    {
     "name": "stderr",
     "output_type": "stream",
     "text": [
      "100%|█████████████████████████████████████████| 817/817 [02:35<00:00,  5.24it/s]\n"
     ]
    },
    {
     "name": "stdout",
     "output_type": "stream",
     "text": [
      "gen_n\n",
      "10    0.565483\n",
      "Name: correct, dtype: float64\n"
     ]
    },
    {
     "name": "stderr",
     "output_type": "stream",
     "text": [
      "Using the latest cached version of the dataset since truthful_qa couldn't be found on the Hugging Face Hub\n",
      "Found the latest cached dataset configuration 'multiple_choice' at /Users/lingjiao/.cache/huggingface/datasets/truthful_qa/multiple_choice/0.0.0/741b8276f2d1982aa3d5b832d3ee81ed3b896490 (last modified on Sat Apr 20 21:01:35 2024).\n"
     ]
    },
    {
     "name": "stdout",
     "output_type": "stream",
     "text": [
      "cate : dev\n",
      "selector mode is mc_majority_vote\n"
     ]
    },
    {
     "name": "stderr",
     "output_type": "stream",
     "text": [
      "100%|█████████████████████████████████████████| 817/817 [11:38<00:00,  1.17it/s]\n"
     ]
    },
    {
     "name": "stdout",
     "output_type": "stream",
     "text": [
      "gen_n\n",
      "10    0.556916\n",
      "Name: correct, dtype: float64\n"
     ]
    }
   ],
   "source": [
    "for use_filter in use_filter_list:\n",
    "    run(\n",
    "    dataname = dataname, \n",
    "    cates = cates,\n",
    "\n",
    "    gen_max_id = 401,\n",
    "        \n",
    "    gen_temp=0.1,\n",
    "    use_filter=use_filter,\n",
    "    judge_type='single_step',\n",
    "    filter_temp  = 0.1,\n",
    "    filter_name = modelname,\n",
    "\n",
    "    modelname = modelname,\n",
    "    metric = 'mc_majority_vote',\n",
    "    selector_modes = ['mc_majority_vote'], #,'mc_llm_full_select','mc_llm_pairwiseunique_select']\n",
    "    random_states = [0],\n",
    "    )"
   ]
  }
 ],
 "metadata": {
  "kernelspec": {
   "display_name": "Python 3 (ipykernel)",
   "language": "python",
   "name": "python3"
  },
  "language_info": {
   "codemirror_mode": {
    "name": "ipython",
    "version": 3
   },
   "file_extension": ".py",
   "mimetype": "text/x-python",
   "name": "python",
   "nbconvert_exporter": "python",
   "pygments_lexer": "ipython3",
   "version": "3.10.13"
  }
 },
 "nbformat": 4,
 "nbformat_minor": 5
}
