{
 "cells": [
  {
   "cell_type": "code",
   "execution_count": null,
   "id": "e04bf7d1-6050-4c12-9c73-8b76aa4ce4bd",
   "metadata": {},
   "outputs": [],
   "source": [
    "from analysis import load_raw_data, log_scale_integers, px, compute_performance_by_gen_en\n",
    "from analysis import plot_performance_vs_LLMCalls, compute_dVx, compute_dFx, ScaleLaws\n",
    "from analysis import plot_performance_vs_LLMCalls_onecurve, simulate_answer\n",
    "from analysis import plot_scatter_plotly_combined, plot_answer_distribution_pie\n",
    "import numpy\n",
    "from tqdm import tqdm"
   ]
  },
  {
   "cell_type": "markdown",
   "id": "dcaf4699-e200-4366-b9ba-24d22669b807",
   "metadata": {},
   "source": [
    "# A Case Study on averitec"
   ]
  },
  {
   "cell_type": "code",
   "execution_count": null,
   "id": "63bf5e20-c61e-4ce3-8dba-8ceaa0ab8a65",
   "metadata": {},
   "outputs": [],
   "source": [
    "gen_n_list = log_scale_integers(2, 1000, 20)\n",
    "samples = 1000\n",
    "cate = 'dev'\n",
    "dataname = 'averitec'\n",
    "color_filter = px.colors.qualitative.Plotly[0]\n",
    "color_vote = px.colors.qualitative.Plotly[1]\n",
    "color_line = px.colors.qualitative.Plotly[2]\n",
    "colors = [color_vote,color_filter]\n",
    "width=750\n",
    "height=600"
   ]
  },
  {
   "cell_type": "markdown",
   "id": "6fde09c9-9ded-4c1d-bdc1-091632d21cf9",
   "metadata": {},
   "source": [
    "### 1. Overall Performance"
   ]
  },
  {
   "cell_type": "code",
   "execution_count": null,
   "id": "5e3630e2-f4a3-412e-a7d1-484f078421fb",
   "metadata": {},
   "outputs": [],
   "source": [
    "data_filter = load_raw_data(dataname = dataname,\n",
    "                     cate = cate,\n",
    "                    use_filter=True,\n",
    "                    )\n",
    "\n",
    "data_nofilter = load_raw_data(dataname = 'averitec',\n",
    "                     cate = 'dev',\n",
    "                    use_filter=False,\n",
    "                    )\n",
    "\n",
    "results_overall_nofilter = compute_performance_by_gen_en(data_nofilter, \n",
    "                                                gen_n_list=gen_n_list, \n",
    "                                                samples=samples,\n",
    "                                               use_filter=False)\n",
    "\n",
    "results_overall_filter = compute_performance_by_gen_en(data_filter, \n",
    "                                                gen_n_list=gen_n_list, \n",
    "                                                samples=samples,\n",
    "                                               use_filter=True)\n"
   ]
  },
  {
   "cell_type": "code",
   "execution_count": null,
   "id": "ee650ef3-4049-4b8b-bd12-095d05e6c6a4",
   "metadata": {},
   "outputs": [],
   "source": [
    "fig = plot_performance_vs_LLMCalls(results_overall_nofilter, results_overall_filter, fontsize=60, marker_size=20, line_width=8,show_legend=True,\n",
    "                                   colors=colors,width=1000,height=700,\n",
    "                                   xaxis_range=[-0.05,numpy.log(1100)/numpy.log(10)],\n",
    "                                  dtick=0.01,\n",
    "                                   h_legend=True,\n",
    "                                  )"
   ]
  },
  {
   "cell_type": "code",
   "execution_count": null,
   "id": "d33ae5d0-8ed0-4b1d-96aa-d3c95764e62f",
   "metadata": {},
   "outputs": [],
   "source": [
    "fig = plot_performance_vs_LLMCalls(results_overall_nofilter, results_overall_filter, fontsize=40, marker_size=20, line_width=8,show_legend=True,\n",
    "                                   colors=colors,width=800,height=700,\n",
    "                                   xaxis_range=[-0.05,numpy.log(1100)/numpy.log(10)],\n",
    "                                  dtick=0.01,\n",
    "                                  )"
   ]
  },
  {
   "cell_type": "markdown",
   "id": "342cc90a-3318-4d63-8863-f630b641116f",
   "metadata": {},
   "source": [
    "### 2. Performance breakdown"
   ]
  },
  {
   "cell_type": "code",
   "execution_count": null,
   "id": "a18816d6-e6c7-4ab3-8a79-84822badbe1d",
   "metadata": {},
   "outputs": [],
   "source": [
    "data_filter = compute_dVx(data_filter)\n",
    "data_filter = compute_dFx(data_filter)\n",
    "data_vote_easy = data_filter[data_filter['dVx']<0]\n",
    "data_vote_hard = data_filter[data_filter['dVx']>0]\n",
    "data_filter_easy = data_filter[data_filter['dFx']<0]\n",
    "data_filter_hard = data_filter[data_filter['dFx']>0]\n",
    "data_all = [data_vote_easy,data_vote_hard,data_filter_easy,data_filter_hard]"
   ]
  },
  {
   "cell_type": "code",
   "execution_count": null,
   "id": "3c8e8eaa-79b1-459f-991d-6e663cfc2cea",
   "metadata": {},
   "outputs": [],
   "source": [
    "perf_vote_easy = compute_performance_by_gen_en(data_vote_easy, \n",
    "                                                gen_n_list=gen_n_list, \n",
    "                                                samples=samples,\n",
    "                                               use_filter=False)\n",
    "\n",
    "perf_vote_hard = compute_performance_by_gen_en(data_vote_hard, \n",
    "                                                gen_n_list=gen_n_list, \n",
    "                                                samples=samples,\n",
    "                                               use_filter=False)\n",
    "\n",
    "perf_filter_easy = compute_performance_by_gen_en(data_filter_easy, \n",
    "                                                gen_n_list=gen_n_list, \n",
    "                                                samples=samples,\n",
    "                                               use_filter=True)\n",
    "\n",
    "perf_filter_hard = compute_performance_by_gen_en(data_filter_hard, \n",
    "                                                gen_n_list=gen_n_list, \n",
    "                                                samples=samples,\n",
    "                                               use_filter=True)\n"
   ]
  },
  {
   "cell_type": "code",
   "execution_count": null,
   "id": "bbb13e91-ba0a-43d8-a8ae-8a81967c5b62",
   "metadata": {},
   "outputs": [],
   "source": [
    "fig_vote_easy = plot_performance_vs_LLMCalls_onecurve(perf_vote_easy, fontsize=80, marker_size=15, line_width=8,show_legend=False,color=color_vote,\n",
    "                                                     width=800,height=600,xaxis_range=[-0.05,numpy.log(1100)/numpy.log(10)],dtick=0.05,\n",
    "                                                     )"
   ]
  },
  {
   "cell_type": "code",
   "execution_count": null,
   "id": "0ce1fe51-c22d-4c1d-8b1a-a65ae708e850",
   "metadata": {},
   "outputs": [],
   "source": [
    "fig_vote_hard = plot_performance_vs_LLMCalls_onecurve(perf_vote_hard, fontsize=80, marker_size=15, line_width=8,show_legend=False,color=color_vote,\n",
    "                                                     width=800,height=600,xaxis_range=[-0.05,numpy.log(1100)/numpy.log(10)],dtick=0.05,\n",
    "                                                     )\n",
    "    "
   ]
  },
  {
   "cell_type": "code",
   "execution_count": null,
   "id": "8fdaff90-a5ae-4c08-a9ff-2537e98090a5",
   "metadata": {},
   "outputs": [],
   "source": [
    "fig_filter_easy = plot_performance_vs_LLMCalls_onecurve(perf_filter_easy, fontsize=80, marker_size=15, line_width=8,show_legend=False,color=color_filter,\n",
    "                                                     width=800,height=600,xaxis_range=[-0.05,numpy.log(1100)/numpy.log(10)],dtick=0.1,\n",
    "                                                     )"
   ]
  },
  {
   "cell_type": "code",
   "execution_count": null,
   "id": "a106471a-74e4-4022-b962-d5ace12ef206",
   "metadata": {},
   "outputs": [],
   "source": [
    "fig_filter_hard = plot_performance_vs_LLMCalls_onecurve(perf_filter_hard, fontsize=80, marker_size=15, line_width=8,show_legend=False,color=color_filter,\n",
    "                                                     width=800,height=600,xaxis_range=[-0.05,numpy.log(1100)/numpy.log(10)],dtick=0.04,\n",
    "                                                     )"
   ]
  },
  {
   "cell_type": "markdown",
   "id": "3427053d-a8a4-45be-b496-789de9e410df",
   "metadata": {},
   "source": [
    "### 3. Prediction"
   ]
  },
  {
   "cell_type": "code",
   "execution_count": null,
   "id": "5a9eb1a0-279e-401b-8868-c20b05b0c1bb",
   "metadata": {},
   "outputs": [],
   "source": [
    "MyScaleNoFilter = ScaleLaws()\n",
    "MyScaleFilter = ScaleLaws()\n",
    "M = [2,5,10,20,50,100]\n",
    "\n",
    "MyScaleNoFilter.fitscalelaws(data_nofilter,M=M,trial=100,use_filter=False)\n",
    "MyScaleFilter.fitscalelaws(data_filter,M=M,trial=100,use_filter=True)"
   ]
  },
  {
   "cell_type": "code",
   "execution_count": null,
   "id": "82527663-48bb-434b-abbf-adbbfedff876",
   "metadata": {},
   "outputs": [],
   "source": [
    "LLM_calls = log_scale_integers(2,1000,100)\n",
    "number_of_trials = 100\n",
    "\n",
    "acc_predict = MyScaleNoFilter.predict(LLM_calls)\n",
    "acc_simulate = [numpy.mean([simulate_answer(data_nofilter.iloc[i],k=k, number_of_trials=number_of_trials)for i in tqdm(range(len(data_nofilter)))]) for k in LLM_calls]\n",
    "\n",
    "acc_predict_filter = MyScaleFilter.predict(LLM_calls)\n",
    "acc_simulate_filter = [numpy.mean([simulate_answer(data_filter.iloc[i],k=k, number_of_trials=number_of_trials,use_filter=True)for i in tqdm(range(len(data_nofilter)))]) for k in LLM_calls]"
   ]
  },
  {
   "cell_type": "code",
   "execution_count": null,
   "id": "df9c8f20-2a58-4bc2-8854-cc0c09d7f202",
   "metadata": {},
   "outputs": [],
   "source": [
    "fig = plot_scatter_plotly_combined(numpy.array(acc_simulate), numpy.array(acc_predict), numpy.array(acc_simulate_filter), numpy.array(acc_predict_filter),\n",
    "                                  figure_size=(800, 700), linewidth=2, markersize=20, fontsize=35,\n",
    "                                   \n",
    "                                  )\n",
    "fig.update_xaxes(tickformat=\".2f\")\n",
    "fig.update_yaxes(tickformat=\".2f\",nticks=5)\n",
    "fig.show()"
   ]
  },
  {
   "cell_type": "code",
   "execution_count": null,
   "id": "0cc83883-8da4-4758-bb72-11aa68f4bc80",
   "metadata": {},
   "outputs": [],
   "source": [
    "fig = plot_scatter_plotly_combined(numpy.array(acc_simulate), numpy.array(acc_predict), numpy.array(acc_simulate_filter), numpy.array(acc_predict_filter),\n",
    "                                  figure_size=(800, 600), linewidth=2, markersize=20, fontsize=35,\n",
    "                                   \n",
    "                                  )\n"
   ]
  },
  {
   "cell_type": "markdown",
   "id": "cb1a0db5-6e0f-4ac9-acc1-f1f5d58b7983",
   "metadata": {},
   "source": [
    "### 4. Find examples"
   ]
  },
  {
   "cell_type": "code",
   "execution_count": null,
   "id": "8b5b8135-9527-4145-9db4-7f6eecbc0917",
   "metadata": {},
   "outputs": [],
   "source": [
    "data_both_easy = data_filter[(data_filter['dVx'] < 0) & (data_filter['dFx'] < 0) & (data_filter['true_answer']=='b')]\n",
    "data_both_hard = data_filter[(data_filter['dVx'] > 0) & (data_filter['dFx'] > 0)]"
   ]
  },
  {
   "cell_type": "code",
   "execution_count": null,
   "id": "b6eb888b-d145-4ec8-a0bf-31e964f138db",
   "metadata": {},
   "outputs": [],
   "source": [
    "index = 10\n",
    "query = data_both_easy.iloc[index]['query']\n",
    "easy_example_answer = eval(data_both_easy.iloc[index]['full_possible_answer_count_before_filter'])\n",
    "easy_example_answer_filter = eval(data_both_easy.iloc[index]['full_possible_answer_count'])\n",
    "true_answer = data_both_easy.iloc[index]['true_answer']\n",
    "print(true_answer)\n",
    "print(data_both_easy.iloc[index]['query'])\n",
    "print(data_both_easy.iloc[index]['full_possible_answer_count_before_filter'])\n",
    "print(easy_example_answer_filter)\n",
    "data_both_easy.iloc[index]"
   ]
  },
  {
   "cell_type": "code",
   "execution_count": null,
   "id": "738089db-c06e-442f-b2b5-e5a8f262a45e",
   "metadata": {},
   "outputs": [],
   "source": [
    "plot_answer_distribution_pie(easy_example_answer, true_answer,show_name=False)\n",
    "\n",
    "plot_answer_distribution_pie(easy_example_answer_filter, true_answer,show_name=False)"
   ]
  }
 ],
 "metadata": {
  "kernelspec": {
   "display_name": "Python 3 (ipykernel)",
   "language": "python",
   "name": "python3"
  },
  "language_info": {
   "codemirror_mode": {
    "name": "ipython",
    "version": 3
   },
   "file_extension": ".py",
   "mimetype": "text/x-python",
   "name": "python",
   "nbconvert_exporter": "python",
   "pygments_lexer": "ipython3",
   "version": "3.10.13"
  }
 },
 "nbformat": 4,
 "nbformat_minor": 5
}
